{
 "cells": [
  {
   "cell_type": "code",
   "execution_count": null,
   "metadata": {},
   "outputs": [],
   "source": [
    "import numpy as np\n",
    "import matplotlib.pyplot as plt\n",
    "from matplotlib import animation"
   ]
  },
  {
   "cell_type": "code",
   "execution_count": null,
   "metadata": {},
   "outputs": [],
   "source": [
    "# setting x dimension\n",
    "xL = 0\n",
    "xR = 1\n",
    "dx = 0.1\n",
    "x = np.arange(xL, xR + dx, dx)\n",
    "nx = int((xR - xL) / dx) + 1\n",
    "x"
   ]
  },
  {
   "cell_type": "code",
   "execution_count": null,
   "metadata": {},
   "outputs": [],
   "source": [
    "# setting y dimension\n",
    "yB = 0\n",
    "yT = 1\n",
    "dy = 0.1\n",
    "y = np.arange(yB, yT + dy, dy)\n",
    "ny = int((yT - yB) / dy) + 1\n",
    "y"
   ]
  },
  {
   "cell_type": "code",
   "execution_count": null,
   "metadata": {},
   "outputs": [],
   "source": [
    "# setting time\n",
    "t_final = 5  # seconds\n",
    "dt = 0.05\n",
    "time = np.arange(0, t_final + dt, dt)\n",
    "nt = int(t_final / dt)\n",
    "time"
   ]
  },
  {
   "cell_type": "code",
   "execution_count": null,
   "metadata": {},
   "outputs": [],
   "source": [
    "# physical constants\n",
    "gamma = 0.1\n",
    "rhocp = 1.2\n",
    "tolerance = 1E-4\n",
    "\n",
    "Dx = gamma * dy / dx\n",
    "Dy = gamma * dx / dy\n",
    "\n",
    "Fx = rhocp * dy\n",
    "Fy = rhocp * dx"
   ]
  },
  {
   "cell_type": "code",
   "execution_count": null,
   "metadata": {},
   "outputs": [],
   "source": [
    "# known flow field\n",
    "ux = np.zeros((ny, nx))\n",
    "uy = np.zeros((ny, nx))\n",
    "\n",
    "for i in range(0, nx):\n",
    "    for j in range(0, ny):\n",
    "        ux[j, i] = i * dx\n",
    "        uy[j, i] = -j * dy\n",
    "\n",
    "print(ux)\n",
    "print(uy)"
   ]
  },
  {
   "cell_type": "code",
   "execution_count": null,
   "metadata": {},
   "outputs": [],
   "source": [
    "X, Y = np.meshgrid(x, y, indexing='xy')\n",
    "\n",
    "plt.title('Velocity Vector')\n",
    "plt.xlabel('x-position')\n",
    "plt.ylabel('y-position')\n",
    "plt.quiver(X, Y, ux, uy, scale=50)\n",
    "plt.show()"
   ]
  },
  {
   "cell_type": "code",
   "execution_count": null,
   "metadata": {},
   "outputs": [],
   "source": [
    "T = np.zeros((ny, nx, nt + 1))\n",
    "T_guess = np.zeros((ny, nx))"
   ]
  },
  {
   "cell_type": "code",
   "execution_count": null,
   "metadata": {},
   "outputs": [],
   "source": [
    "# fixed boundary conditions\n",
    "T[ny-1, :, :] = 2\n",
    "for j in range(0, ny):\n",
    "    T[j, 0, :] = (j * dy) + 1\n",
    "\n",
    "T[:, :, 0]"
   ]
  },
  {
   "cell_type": "code",
   "execution_count": null,
   "metadata": {},
   "outputs": [],
   "source": [
    "plt.title('Initial Temperature Contour')\n",
    "plt.xlabel('x-position')\n",
    "plt.ylabel('y-position')\n",
    "contour = plt.contourf(X, Y, T[:, :, 0])\n",
    "plt.colorbar()\n",
    "plt.show()"
   ]
  },
  {
   "cell_type": "code",
   "execution_count": null,
   "metadata": {},
   "outputs": [],
   "source": [
    "n_iterations = 0\n",
    "error_list = []\n",
    "\n",
    "for k in range(0, nt):  # time loop\n",
    "    error = 1\n",
    "    T_guess[:, :] = T[:, :, k]\n",
    "    while error > tolerance:\n",
    "        for j in range(1, ny - 1):  # y loop\n",
    "            for i in range(1, nx - 1):  # x loop\n",
    "                T[j, i, k + 1] = (((((Dx + np.amax((-Fx * ux[j, i + 1], 0))) * T[j, i + 1, k + 1]) + \n",
    "                                    ((Dx + np.amax((Fx * ux[j, i - 1]))) * T[j, i - 1, k + 1]) +\n",
    "                                  ((Dy + np.amax((-Fy * uy[j + 1, i], 0))) * T[j + 1, i, k + 1])) + \n",
    "                                  ((Dy + np.amax((Fy * uy[j - 1, i], 0))) * T[j - 1, i, k + 1]) + (((rhocp * dx * dx) / dt) * T[j, i, k])) /\n",
    "                                  ((Dx + np.amax((-Fx * ux[j, i + 1], 0))) + (Dx + np.amax((Fx * ux[j, i - 1]))) + (Dy + np.amax((-Fy * uy[j + 1, i], 0))) + \n",
    "                                   (Dy + np.amax((Fy * uy[j - 1, i], 0))) + ((rhocp * dx * dx) / dt)))\n",
    "\n",
    "        # fixed flux boundary conditions\n",
    "        # zero flux boundary at the bottom (xy) of the system, there are can be no j - 1 terms, i + 1 and i - 1 stay, j + 1 replaced with 1\n",
    "        for l in range(1, nx -1):\n",
    "            T[0, l, k + 1] = (((((Dx + np.amax((-Fx * ux[0, l + 1], 0))) * T[0, l + 1, k + 1]) + ((Dx + np.amax((Fx * ux[0, l - 1]))) * T[0, l - 1, k + 1]) +\n",
    "                                  ((Dy + np.amax((-Fy * uy[1, l], 0))) * T[1, l, k + 1])) + (((rhocp * dx * dx) / dt) * T[0, l, k])) /\n",
    "                                  ((Dx + np.amax((-Fx * ux[0, l + 1], 0))) + (Dx + np.amax((Fx * ux[0, l - 1]))) + (Dy + np.amax((-Fy * uy[1, l], 0))) + ((rhocp * dx * dx) / dt)))\n",
    "\n",
    "        # zero flux boundary condition on right (xy) of the system, there can be no (i + 1) terms, (j - 1) and (j + 1) stay, (i - 1) replaced with (nx - 2) j replaced with m\n",
    "        for m in range(1, ny -1):\n",
    "            T[m, nx - 1, k + 1] = (((((Dx + np.amax((Fx * ux[m, nx - 2]))) * T[m, nx - 2, k + 1]) +\n",
    "                                  ((Dy + np.amax((-Fy * uy[m + 1, nx - 1], 0))) * T[m + 1, nx - 1, k + 1])) + \n",
    "                                  ((Dy + np.amax((Fy * uy[m - 1, nx - 1], 0))) * T[m - 1, nx - 1, k + 1]) + (((rhocp * dx * dx) / dt) * T[m, nx - 1, k])) /\n",
    "                                  ((Dx + np.amax((Fx * ux[m, nx - 2]))) + (Dy + np.amax((-Fy * uy[m + 1, nx - 1], 0))) + \n",
    "                                   (Dy + np.amax((Fy * uy[m - 1, nx - 1], 0))) + ((rhocp * dx * dx) / dt)))\n",
    "            \n",
    "        #corner BC\n",
    "        T[0, nx - 1, k + 1] = (((((Dx + np.amax((Fx * ux[0, nx - 2]))) * T[0, nx - 2, k + 1]) +\n",
    "                                  ((Dy + np.amax((-Fy * uy[1, nx - 1], 0))) * T[1, nx - 1, k + 1])) + (((rhocp * dx * dx) / dt) * T[0, nx - 1, k])) /\n",
    "                                  ((Dx + np.amax((Fx * ux[0, nx - 2]))) + (Dy + np.amax((-Fy * uy[1, nx - 1], 0))) + ((rhocp * dx * dx) / dt)))\n",
    "\n",
    "\n",
    "\n",
    "        error = np.amax(np.amax(np.abs((T[:, :, k + 1] - T_guess))))\n",
    "        error_list.append(error)\n",
    "        n_iterations += 1\n",
    "        T_guess[:, :] = T[:, :, k + 1]"
   ]
  },
  {
   "cell_type": "code",
   "execution_count": null,
   "metadata": {},
   "outputs": [],
   "source": [
    "steady_error = []\n",
    "for k in range(0, nt):\n",
    "    steady = np.amax(np.amax(np.abs(T[:, :, k + 1] - T[:, :, k])))\n",
    "    steady_error.append(steady)"
   ]
  },
  {
   "cell_type": "code",
   "execution_count": null,
   "metadata": {},
   "outputs": [],
   "source": [
    "plt.title('Finding Steady State')\n",
    "plt.xlabel('Time')\n",
    "plt.ylabel('Error')\n",
    "plt.yscale('log')\n",
    "plt.plot(time[1:nt+1], steady_error)\n",
    "plt.show()"
   ]
  },
  {
   "cell_type": "code",
   "execution_count": null,
   "metadata": {},
   "outputs": [],
   "source": [
    "plt.title('Error vs Iterations')\n",
    "plt.xlabel('Number of Iterations')\n",
    "plt.ylabel('Error')\n",
    "plt.yscale('log')\n",
    "plt.plot(range(0, n_iterations), error_list)\n",
    "plt.show()"
   ]
  },
  {
   "cell_type": "code",
   "execution_count": null,
   "metadata": {},
   "outputs": [],
   "source": [
    "print_time = 2\n",
    "print_time = int(print_time / dt)\n",
    "print(print_time)\n",
    "\n",
    "plt.title('Temperature Contour')\n",
    "plt.xlabel('x-position')\n",
    "plt.ylabel('y-position')\n",
    "contour = plt.contourf(X, Y, T[:, :, print_time])\n",
    "plt.colorbar()\n",
    "plt.show()"
   ]
  },
  {
   "cell_type": "code",
   "execution_count": null,
   "metadata": {},
   "outputs": [],
   "source": [
    "fig = plt.figure()\n",
    "ax = plt.axes()\n",
    "\n",
    "def animate(i):\n",
    "    contour = plt.contourf(X, Y, T[:, :, i])\n",
    "    return contour\n",
    "\n",
    "anim = animation.FuncAnimation(fig, animate, frames=nt, interval=500, blit=False)\n",
    "\n",
    "anim.save('test_animation_1.mp4', fps=10)\n",
    "\n",
    "plt.show()"
   ]
  }
 ],
 "metadata": {
  "kernelspec": {
   "display_name": "Python 3 (ipykernel)",
   "language": "python",
   "name": "python3"
  },
  "language_info": {
   "codemirror_mode": {
    "name": "ipython",
    "version": 3
   },
   "file_extension": ".py",
   "mimetype": "text/x-python",
   "name": "python",
   "nbconvert_exporter": "python",
   "pygments_lexer": "ipython3",
   "version": "3.10.10"
  }
 },
 "nbformat": 4,
 "nbformat_minor": 2
}
